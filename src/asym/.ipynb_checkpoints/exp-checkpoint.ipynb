{
 "cells": [
  {
   "cell_type": "code",
   "execution_count": 76,
   "id": "f1131def-fa9b-4f27-8fb9-41e2efefb205",
   "metadata": {},
   "outputs": [],
   "source": [
    "import pickle\n",
    "from asym.prepare_grouper import find_thresholds\n",
    "\n",
    "with open('sizes_2.0.pkl', 'rb') as f:\n",
    "    l2 = pickle.load(f)\n",
    "with open('sizes_4.0.pkl', 'rb') as f:\n",
    "    l4 = pickle.load(f)\n",
    "sqr_fn = lambda x: x ** 2"
   ]
  },
  {
   "cell_type": "code",
   "execution_count": 74,
   "id": "d7d09f8c-3c5e-410f-a443-dffdaf6da81f",
   "metadata": {},
   "outputs": [
    {
     "name": "stdout",
     "output_type": "stream",
     "text": [
      "status: repeated\n",
      "57\n",
      "[14, 22, 34, 52, 88]\n"
     ]
    }
   ],
   "source": [
    "#guess: 20, 30, 50, 100\n",
    "thresholds, history = find_thresholds(l2, sqr_fn, 5, \n",
    "                             return_diff_history=True, \n",
    "                             tolerate=None,\n",
    "                             print_status=True)\n",
    "print(len(history))\n",
    "print(thresholds)"
   ]
  },
  {
   "cell_type": "code",
   "execution_count": 75,
   "id": "3277808d-1244-4c4b-b1a6-a87a3c218b8f",
   "metadata": {},
   "outputs": [
    {
     "name": "stdout",
     "output_type": "stream",
     "text": [
      "status: repeated\n",
      "81\n",
      "[24, 36, 52, 77, 130]\n"
     ]
    }
   ],
   "source": [
    "#guess: 20, 30, 50, 100\n",
    "thresholds, history = find_thresholds(l4, sqr_fn, 5, \n",
    "                             return_diff_history=True, \n",
    "                             tolerate=None,\n",
    "                             print_status=True)\n",
    "print(len(history))\n",
    "print(thresholds)"
   ]
  }
 ],
 "metadata": {
  "kernelspec": {
   "display_name": "dti",
   "language": "python",
   "name": "dti"
  },
  "language_info": {
   "codemirror_mode": {
    "name": "ipython",
    "version": 3
   },
   "file_extension": ".py",
   "mimetype": "text/x-python",
   "name": "python",
   "nbconvert_exporter": "python",
   "pygments_lexer": "ipython3",
   "version": "3.8.11"
  }
 },
 "nbformat": 4,
 "nbformat_minor": 5
}
